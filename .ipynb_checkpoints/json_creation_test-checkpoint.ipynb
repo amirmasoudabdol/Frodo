{
 "cells": [
  {
   "cell_type": "code",
   "execution_count": 160,
   "metadata": {},
   "outputs": [],
   "source": [
    "import numpy as np\n",
    "import pandas as pd\n",
    "import functools\n",
    "import operator\n",
    "import json\n",
    "import simplejson\n",
    "import uuid"
   ]
  },
  {
   "cell_type": "code",
   "execution_count": 101,
   "metadata": {},
   "outputs": [],
   "source": [
    "# https://stackoverflow.com/questions/14882138/replace-value-in-json-file-for-key-which-can-be-nested-by-n-levels\n",
    "\n",
    "def fixup(adict, k, v):\n",
    "    for key in adict.keys():\n",
    "        if key == k:\n",
    "            adict[key] = v\n",
    "        elif type(adict[key]) is dict:\n",
    "            fixup(adict[key], k, v)"
   ]
  },
  {
   "cell_type": "code",
   "execution_count": 174,
   "metadata": {},
   "outputs": [],
   "source": [
    "config_template = {\n",
    "    \"ExperimentParameters\": {\n",
    "        \"covs\": 0.0,\n",
    "        \"data_strategy\": {\n",
    "            \"name\": \"LinearModel\"\n",
    "        },\n",
    "        \"effect_estimators\": {\n",
    "            \"name\": \"CohensD\"\n",
    "        },\n",
    "        \"err_covs\": 0.001,\n",
    "        \"err_means\": 0.0,\n",
    "        \"err_vars\": 0.01,\n",
    "        \"loadings\": 0.7,\n",
    "        \"means\": 0.5,\n",
    "        \"n_conditions\": 3,\n",
    "        \"n_dep_vars\": 3,\n",
    "        \"n_items\": 3,\n",
    "        \"n_obs\": 10,\n",
    "        \"test_strategy\": {\n",
    "            \"alpha\": 0.05,\n",
    "            \"name\": \"TTest\",\n",
    "            \"side\": \"TwoSided\"\n",
    "        },\n",
    "        \"vars\": 1\n",
    "    },\n",
    "    \"JournalParameters\": {\n",
    "        \"max_pubs\": 20,\n",
    "        \"selection_strategy\": {\n",
    "            \"alpha\": 0.05,\n",
    "            \"name\": \"SignificantSelection\",\n",
    "            \"pub_bias\": 0.95,\n",
    "            \"selection_seed\": 565444343,\n",
    "            \"side\": 0\n",
    "        }\n",
    "    },\n",
    "    \"ResearcherParameters\": {\n",
    "        \"decision_strategy\": {\n",
    "            \"name\": \"ImpatientDecisionMaker\",\n",
    "            \"preference\": \"MinPvalue\"\n",
    "        },\n",
    "        \"hacking_strategies\": [\n",
    "            [\n",
    "                {\n",
    "                    \"level\": \"dv\",\n",
    "                    \"max_attempts\": 10,\n",
    "                    \"n_attempts\": 3,\n",
    "                    \"name\": \"OptionalStopping\",\n",
    "                    \"num\": 10\n",
    "                }\n",
    "            ]\n",
    "        ],\n",
    "        \"is_phacker\": True\n",
    "    },\n",
    "    \"SimulationParameters\": {\n",
    "        \"debug\": False,\n",
    "        \"master_seed\": 42,\n",
    "        \"n_sims\": 5,\n",
    "        \"output_path\": \"../outputs/\",\n",
    "        \"output_prefix\": \"\",\n",
    "        \"progress\": False,\n",
    "        \"verbose\": True\n",
    "    }\n",
    "}"
   ]
  },
  {
   "cell_type": "code",
   "execution_count": 188,
   "metadata": {},
   "outputs": [],
   "source": [
    "params = {\n",
    "    \"debug\": [False]\n",
    "    ,\n",
    "    \"verbose\": [False]\n",
    "    ,\n",
    "    \"progress\": [False]\n",
    "    ,\n",
    "    \"nsims\": [1, 2, 3]\n",
    "    ,\n",
    "    \"testalpha\": [0.05, 0.005, 0.0005]\n",
    "    ,\n",
    "    \"pubbias\": [0.95]\n",
    "    ,\n",
    "    \"selectionmodel\": [\n",
    "        {\n",
    "            \"name\": \"SignificantSelection\"\n",
    "        }\n",
    "    ]\n",
    "    ,\n",
    "    \"hacking_strategies\": \n",
    "    [ # Collections of Sets\n",
    "        # Different Sets\n",
    "        [ # Set 1\n",
    "            [ # Group 1\n",
    "                {\n",
    "                    \"name\": \"S1; G1; M1\"\n",
    "                },\n",
    "                {\n",
    "                    \"name\": \"S1; G1; M2\"\n",
    "                }\n",
    "            ],\n",
    "            [\n",
    "                # Group 2\n",
    "                {\"name\": \"S1; G2: M1\"}\n",
    "            ]\n",
    "        ],\n",
    "        [ # Set 2\n",
    "            [ # \n",
    "                {\n",
    "                    \"name\": \"S2; G1; M1\"\n",
    "                }\n",
    "            ]\n",
    "        ]\n",
    "    ]\n",
    "}\n",
    "\n",
    "n = functools.reduce(operator.mul, [len(value) for value in params.values()], 1)\n",
    "\n",
    "d = dict([(key, np.tile(value, (n // len(value)))) if np.ndim(value) == 1 else (key, np.tile(value, (n // len(value), 1))) for key, value in params.items()])"
   ]
  },
  {
   "cell_type": "code",
   "execution_count": 189,
   "metadata": {},
   "outputs": [
    {
     "data": {
      "text/plain": [
       "{'debug': array([False, False, False, False, False, False, False, False, False,\n",
       "        False, False, False, False, False, False, False, False, False]),\n",
       " 'verbose': array([False, False, False, False, False, False, False, False, False,\n",
       "        False, False, False, False, False, False, False, False, False]),\n",
       " 'progress': array([False, False, False, False, False, False, False, False, False,\n",
       "        False, False, False, False, False, False, False, False, False]),\n",
       " 'nsims': array([1, 2, 3, 1, 2, 3, 1, 2, 3, 1, 2, 3, 1, 2, 3, 1, 2, 3]),\n",
       " 'testalpha': array([0.05  , 0.005 , 0.0005, 0.05  , 0.005 , 0.0005, 0.05  , 0.005 ,\n",
       "        0.0005, 0.05  , 0.005 , 0.0005, 0.05  , 0.005 , 0.0005, 0.05  ,\n",
       "        0.005 , 0.0005]),\n",
       " 'pubbias': array([0.95, 0.95, 0.95, 0.95, 0.95, 0.95, 0.95, 0.95, 0.95, 0.95, 0.95,\n",
       "        0.95, 0.95, 0.95, 0.95, 0.95, 0.95, 0.95]),\n",
       " 'selectionmodel': array([{'name': 'SignificantSelection'}, {'name': 'SignificantSelection'},\n",
       "        {'name': 'SignificantSelection'}, {'name': 'SignificantSelection'},\n",
       "        {'name': 'SignificantSelection'}, {'name': 'SignificantSelection'},\n",
       "        {'name': 'SignificantSelection'}, {'name': 'SignificantSelection'},\n",
       "        {'name': 'SignificantSelection'}, {'name': 'SignificantSelection'},\n",
       "        {'name': 'SignificantSelection'}, {'name': 'SignificantSelection'},\n",
       "        {'name': 'SignificantSelection'}, {'name': 'SignificantSelection'},\n",
       "        {'name': 'SignificantSelection'}, {'name': 'SignificantSelection'},\n",
       "        {'name': 'SignificantSelection'}, {'name': 'SignificantSelection'}],\n",
       "       dtype=object),\n",
       " 'hacking_strategies': array([list([[{'name': 'S1; G1; M1'}, {'name': 'S1; G1; M2'}], [{'name': 'S1; G2: M1'}]]),\n",
       "        list([[{'name': 'S2; G1; M1'}]]),\n",
       "        list([[{'name': 'S1; G1; M1'}, {'name': 'S1; G1; M2'}], [{'name': 'S1; G2: M1'}]]),\n",
       "        list([[{'name': 'S2; G1; M1'}]]),\n",
       "        list([[{'name': 'S1; G1; M1'}, {'name': 'S1; G1; M2'}], [{'name': 'S1; G2: M1'}]]),\n",
       "        list([[{'name': 'S2; G1; M1'}]]),\n",
       "        list([[{'name': 'S1; G1; M1'}, {'name': 'S1; G1; M2'}], [{'name': 'S1; G2: M1'}]]),\n",
       "        list([[{'name': 'S2; G1; M1'}]]),\n",
       "        list([[{'name': 'S1; G1; M1'}, {'name': 'S1; G1; M2'}], [{'name': 'S1; G2: M1'}]]),\n",
       "        list([[{'name': 'S2; G1; M1'}]]),\n",
       "        list([[{'name': 'S1; G1; M1'}, {'name': 'S1; G1; M2'}], [{'name': 'S1; G2: M1'}]]),\n",
       "        list([[{'name': 'S2; G1; M1'}]]),\n",
       "        list([[{'name': 'S1; G1; M1'}, {'name': 'S1; G1; M2'}], [{'name': 'S1; G2: M1'}]]),\n",
       "        list([[{'name': 'S2; G1; M1'}]]),\n",
       "        list([[{'name': 'S1; G1; M1'}, {'name': 'S1; G1; M2'}], [{'name': 'S1; G2: M1'}]]),\n",
       "        list([[{'name': 'S2; G1; M1'}]]),\n",
       "        list([[{'name': 'S1; G1; M1'}, {'name': 'S1; G1; M2'}], [{'name': 'S1; G2: M1'}]]),\n",
       "        list([[{'name': 'S2; G1; M1'}]])], dtype=object)}"
      ]
     },
     "execution_count": 189,
     "metadata": {},
     "output_type": "execute_result"
    }
   ],
   "source": [
    "d"
   ]
  },
  {
   "cell_type": "code",
   "execution_count": 190,
   "metadata": {},
   "outputs": [],
   "source": [
    "class NumpyEncoder(json.JSONEncoder):\n",
    "    def default(self, obj):\n",
    "        if isinstance(obj, np.integer):\n",
    "            return int(obj)\n",
    "        elif isinstance(obj, np.floating):\n",
    "            return float(obj)\n",
    "        elif isinstance(obj, np.bool_):\n",
    "            return bool(obj)\n",
    "        elif isinstance(obj, np.ndarray):\n",
    "            return obj.tolist()\n",
    "        else:\n",
    "            return super(MyEncoder, self).default(obj)\n",
    "\n",
    "i = 0\n",
    "for i in range(n):\n",
    "    for (key, value) in d.items():\n",
    "        fixup(config_template, key, value[i])\n",
    "    with open(str(uuid.uuid4()) + \".json\", 'w') as f:\n",
    "        json.dump(config_template, f, cls=NumpyEncoder, indent = 4)\n",
    "#         simplejson.dumps(config_template)\n",
    "#     print(config_template)"
   ]
  },
  {
   "cell_type": "code",
   "execution_count": null,
   "metadata": {},
   "outputs": [],
   "source": []
  },
  {
   "cell_type": "code",
   "execution_count": 61,
   "metadata": {},
   "outputs": [
    {
     "data": {
      "text/plain": [
       "2"
      ]
     },
     "execution_count": 61,
     "metadata": {},
     "output_type": "execute_result"
    }
   ],
   "source": [
    "np.ndim(params['hacking_strategies'])"
   ]
  },
  {
   "cell_type": "code",
   "execution_count": 75,
   "metadata": {},
   "outputs": [],
   "source": [
    "d = dict([(key, np.tile(value, (n // len(value)))) if np.ndim(value) == 1 else (key, np.tile(value, (n // len(value), 1))) for key, value in params.items()])"
   ]
  },
  {
   "cell_type": "code",
   "execution_count": 76,
   "metadata": {},
   "outputs": [
    {
     "data": {
      "text/plain": [
       "array([[0.95],\n",
       "       [0.95],\n",
       "       [0.95],\n",
       "       [0.95],\n",
       "       [0.95],\n",
       "       [0.95],\n",
       "       [0.95],\n",
       "       [0.95],\n",
       "       [0.95]])"
      ]
     },
     "execution_count": 76,
     "metadata": {},
     "output_type": "execute_result"
    }
   ],
   "source": [
    "np.tile(params['pubbias'], (9, 1))"
   ]
  },
  {
   "cell_type": "code",
   "execution_count": 77,
   "metadata": {},
   "outputs": [
    {
     "data": {
      "text/plain": [
       "[9, 9, 9, 9, 9, 9, 9, 9]"
      ]
     },
     "execution_count": 77,
     "metadata": {},
     "output_type": "execute_result"
    }
   ],
   "source": [
    "[len(i) for i in d.values()]"
   ]
  },
  {
   "cell_type": "code",
   "execution_count": 82,
   "metadata": {},
   "outputs": [
    {
     "data": {
      "text/plain": [
       "{'debug': array([False, False, False, False, False, False, False, False, False]),\n",
       " 'verbose': array([False, False, False, False, False, False, False, False, False]),\n",
       " 'progress': array([False, False, False, False, False, False, False, False, False]),\n",
       " 'nsims': array([1, 2, 3, 1, 2, 3, 1, 2, 3]),\n",
       " 'testalpha': array([0.05  , 0.005 , 0.0005, 0.05  , 0.005 , 0.0005, 0.05  , 0.005 ,\n",
       "        0.0005]),\n",
       " 'pubbias': array([0.95, 0.95, 0.95, 0.95, 0.95, 0.95, 0.95, 0.95, 0.95]),\n",
       " 'selectionmodel': array([{'name': 'SignificantSelection'}, {'name': 'SignificantSelection'},\n",
       "        {'name': 'SignificantSelection'}, {'name': 'SignificantSelection'},\n",
       "        {'name': 'SignificantSelection'}, {'name': 'SignificantSelection'},\n",
       "        {'name': 'SignificantSelection'}, {'name': 'SignificantSelection'},\n",
       "        {'name': 'SignificantSelection'}], dtype=object),\n",
       " 'hacking_strategies': array([[{'level': 'dv', 'max_attempts': 3, 'n_attempts': 3, 'name': 'OptionalStopping', 'num': 10},\n",
       "         {'name': 'Method 2'}],\n",
       "        [{'level': 'dv', 'max_attempts': 3, 'n_attempts': 3, 'name': 'OptionalStopping', 'num': 10},\n",
       "         {'name': 'Method 2'}],\n",
       "        [{'level': 'dv', 'max_attempts': 3, 'n_attempts': 3, 'name': 'OptionalStopping', 'num': 10},\n",
       "         {'name': 'Method 2'}],\n",
       "        [{'level': 'dv', 'max_attempts': 3, 'n_attempts': 3, 'name': 'OptionalStopping', 'num': 10},\n",
       "         {'name': 'Method 2'}],\n",
       "        [{'level': 'dv', 'max_attempts': 3, 'n_attempts': 3, 'name': 'OptionalStopping', 'num': 10},\n",
       "         {'name': 'Method 2'}],\n",
       "        [{'level': 'dv', 'max_attempts': 3, 'n_attempts': 3, 'name': 'OptionalStopping', 'num': 10},\n",
       "         {'name': 'Method 2'}],\n",
       "        [{'level': 'dv', 'max_attempts': 3, 'n_attempts': 3, 'name': 'OptionalStopping', 'num': 10},\n",
       "         {'name': 'Method 2'}],\n",
       "        [{'level': 'dv', 'max_attempts': 3, 'n_attempts': 3, 'name': 'OptionalStopping', 'num': 10},\n",
       "         {'name': 'Method 2'}],\n",
       "        [{'level': 'dv', 'max_attempts': 3, 'n_attempts': 3, 'name': 'OptionalStopping', 'num': 10},\n",
       "         {'name': 'Method 2'}]], dtype=object)}"
      ]
     },
     "execution_count": 82,
     "metadata": {},
     "output_type": "execute_result"
    }
   ],
   "source": [
    "d"
   ]
  },
  {
   "cell_type": "code",
   "execution_count": 87,
   "metadata": {},
   "outputs": [
    {
     "name": "stderr",
     "output_type": "stream",
     "text": [
      "/usr/local/lib/python3.7/site-packages/ipykernel_launcher.py:1: FutureWarning: from_items is deprecated. Please use DataFrame.from_dict(dict(items), ...) instead. DataFrame.from_dict(OrderedDict(items)) may be used to preserve the key order.\n",
      "  \"\"\"Entry point for launching an IPython kernel.\n"
     ]
    },
    {
     "ename": "Exception",
     "evalue": "Data must be 1-dimensional",
     "output_type": "error",
     "traceback": [
      "\u001b[0;31m---------------------------------------------------------------------------\u001b[0m",
      "\u001b[0;31mException\u001b[0m                                 Traceback (most recent call last)",
      "\u001b[0;32m<ipython-input-87-6581044eb5ec>\u001b[0m in \u001b[0;36m<module>\u001b[0;34m\u001b[0m\n\u001b[0;32m----> 1\u001b[0;31m \u001b[0mdf\u001b[0m \u001b[0;34m=\u001b[0m \u001b[0mpd\u001b[0m\u001b[0;34m.\u001b[0m\u001b[0mDataFrame\u001b[0m\u001b[0;34m.\u001b[0m\u001b[0mfrom_items\u001b[0m\u001b[0;34m(\u001b[0m\u001b[0md\u001b[0m\u001b[0;34m.\u001b[0m\u001b[0mitems\u001b[0m\u001b[0;34m(\u001b[0m\u001b[0;34m)\u001b[0m\u001b[0;34m)\u001b[0m\u001b[0;34m\u001b[0m\u001b[0;34m\u001b[0m\u001b[0m\n\u001b[0m",
      "\u001b[0;32m/usr/local/lib/python3.7/site-packages/pandas/core/frame.py\u001b[0m in \u001b[0;36mfrom_items\u001b[0;34m(cls, items, columns, orient)\u001b[0m\n\u001b[1;32m   1801\u001b[0m             \u001b[0;31m# Provide more informative error msg when scalar values passed\u001b[0m\u001b[0;34m\u001b[0m\u001b[0;34m\u001b[0m\u001b[0;34m\u001b[0m\u001b[0m\n\u001b[1;32m   1802\u001b[0m             \u001b[0;32mtry\u001b[0m\u001b[0;34m:\u001b[0m\u001b[0;34m\u001b[0m\u001b[0;34m\u001b[0m\u001b[0m\n\u001b[0;32m-> 1803\u001b[0;31m                 \u001b[0;32mreturn\u001b[0m \u001b[0mcls\u001b[0m\u001b[0;34m.\u001b[0m\u001b[0m_from_arrays\u001b[0m\u001b[0;34m(\u001b[0m\u001b[0marrays\u001b[0m\u001b[0;34m,\u001b[0m \u001b[0mcolumns\u001b[0m\u001b[0;34m,\u001b[0m \u001b[0;32mNone\u001b[0m\u001b[0;34m)\u001b[0m\u001b[0;34m\u001b[0m\u001b[0;34m\u001b[0m\u001b[0m\n\u001b[0m\u001b[1;32m   1804\u001b[0m \u001b[0;34m\u001b[0m\u001b[0m\n\u001b[1;32m   1805\u001b[0m             \u001b[0;32mexcept\u001b[0m \u001b[0mValueError\u001b[0m\u001b[0;34m:\u001b[0m\u001b[0;34m\u001b[0m\u001b[0;34m\u001b[0m\u001b[0m\n",
      "\u001b[0;32m/usr/local/lib/python3.7/site-packages/pandas/core/frame.py\u001b[0m in \u001b[0;36m_from_arrays\u001b[0;34m(cls, arrays, columns, index, dtype)\u001b[0m\n\u001b[1;32m   1831\u001b[0m     \u001b[0;34m@\u001b[0m\u001b[0mclassmethod\u001b[0m\u001b[0;34m\u001b[0m\u001b[0;34m\u001b[0m\u001b[0m\n\u001b[1;32m   1832\u001b[0m     \u001b[0;32mdef\u001b[0m \u001b[0m_from_arrays\u001b[0m\u001b[0;34m(\u001b[0m\u001b[0mcls\u001b[0m\u001b[0;34m,\u001b[0m \u001b[0marrays\u001b[0m\u001b[0;34m,\u001b[0m \u001b[0mcolumns\u001b[0m\u001b[0;34m,\u001b[0m \u001b[0mindex\u001b[0m\u001b[0;34m,\u001b[0m \u001b[0mdtype\u001b[0m\u001b[0;34m=\u001b[0m\u001b[0;32mNone\u001b[0m\u001b[0;34m)\u001b[0m\u001b[0;34m:\u001b[0m\u001b[0;34m\u001b[0m\u001b[0;34m\u001b[0m\u001b[0m\n\u001b[0;32m-> 1833\u001b[0;31m         \u001b[0mmgr\u001b[0m \u001b[0;34m=\u001b[0m \u001b[0marrays_to_mgr\u001b[0m\u001b[0;34m(\u001b[0m\u001b[0marrays\u001b[0m\u001b[0;34m,\u001b[0m \u001b[0mcolumns\u001b[0m\u001b[0;34m,\u001b[0m \u001b[0mindex\u001b[0m\u001b[0;34m,\u001b[0m \u001b[0mcolumns\u001b[0m\u001b[0;34m,\u001b[0m \u001b[0mdtype\u001b[0m\u001b[0;34m=\u001b[0m\u001b[0mdtype\u001b[0m\u001b[0;34m)\u001b[0m\u001b[0;34m\u001b[0m\u001b[0;34m\u001b[0m\u001b[0m\n\u001b[0m\u001b[1;32m   1834\u001b[0m         \u001b[0;32mreturn\u001b[0m \u001b[0mcls\u001b[0m\u001b[0;34m(\u001b[0m\u001b[0mmgr\u001b[0m\u001b[0;34m)\u001b[0m\u001b[0;34m\u001b[0m\u001b[0;34m\u001b[0m\u001b[0m\n\u001b[1;32m   1835\u001b[0m \u001b[0;34m\u001b[0m\u001b[0m\n",
      "\u001b[0;32m/usr/local/lib/python3.7/site-packages/pandas/core/internals/construction.py\u001b[0m in \u001b[0;36marrays_to_mgr\u001b[0;34m(arrays, arr_names, index, columns, dtype)\u001b[0m\n\u001b[1;32m     54\u001b[0m \u001b[0;34m\u001b[0m\u001b[0m\n\u001b[1;32m     55\u001b[0m     \u001b[0;31m# don't force copy because getting jammed in an ndarray anyway\u001b[0m\u001b[0;34m\u001b[0m\u001b[0;34m\u001b[0m\u001b[0;34m\u001b[0m\u001b[0m\n\u001b[0;32m---> 56\u001b[0;31m     \u001b[0marrays\u001b[0m \u001b[0;34m=\u001b[0m \u001b[0m_homogenize\u001b[0m\u001b[0;34m(\u001b[0m\u001b[0marrays\u001b[0m\u001b[0;34m,\u001b[0m \u001b[0mindex\u001b[0m\u001b[0;34m,\u001b[0m \u001b[0mdtype\u001b[0m\u001b[0;34m)\u001b[0m\u001b[0;34m\u001b[0m\u001b[0;34m\u001b[0m\u001b[0m\n\u001b[0m\u001b[1;32m     57\u001b[0m \u001b[0;34m\u001b[0m\u001b[0m\n\u001b[1;32m     58\u001b[0m     \u001b[0;31m# from BlockManager perspective\u001b[0m\u001b[0;34m\u001b[0m\u001b[0;34m\u001b[0m\u001b[0;34m\u001b[0m\u001b[0m\n",
      "\u001b[0;32m/usr/local/lib/python3.7/site-packages/pandas/core/internals/construction.py\u001b[0m in \u001b[0;36m_homogenize\u001b[0;34m(data, index, dtype)\u001b[0m\n\u001b[1;32m    275\u001b[0m                 \u001b[0mval\u001b[0m \u001b[0;34m=\u001b[0m \u001b[0mlib\u001b[0m\u001b[0;34m.\u001b[0m\u001b[0mfast_multiget\u001b[0m\u001b[0;34m(\u001b[0m\u001b[0mval\u001b[0m\u001b[0;34m,\u001b[0m \u001b[0moindex\u001b[0m\u001b[0;34m.\u001b[0m\u001b[0mvalues\u001b[0m\u001b[0;34m,\u001b[0m \u001b[0mdefault\u001b[0m\u001b[0;34m=\u001b[0m\u001b[0mnp\u001b[0m\u001b[0;34m.\u001b[0m\u001b[0mnan\u001b[0m\u001b[0;34m)\u001b[0m\u001b[0;34m\u001b[0m\u001b[0;34m\u001b[0m\u001b[0m\n\u001b[1;32m    276\u001b[0m             val = sanitize_array(val, index, dtype=dtype, copy=False,\n\u001b[0;32m--> 277\u001b[0;31m                                  raise_cast_failure=False)\n\u001b[0m\u001b[1;32m    278\u001b[0m \u001b[0;34m\u001b[0m\u001b[0m\n\u001b[1;32m    279\u001b[0m         \u001b[0mhomogenized\u001b[0m\u001b[0;34m.\u001b[0m\u001b[0mappend\u001b[0m\u001b[0;34m(\u001b[0m\u001b[0mval\u001b[0m\u001b[0;34m)\u001b[0m\u001b[0;34m\u001b[0m\u001b[0;34m\u001b[0m\u001b[0m\n",
      "\u001b[0;32m/usr/local/lib/python3.7/site-packages/pandas/core/internals/construction.py\u001b[0m in \u001b[0;36msanitize_array\u001b[0;34m(data, index, dtype, copy, raise_cast_failure)\u001b[0m\n\u001b[1;32m    656\u001b[0m     \u001b[0;32melif\u001b[0m \u001b[0msubarr\u001b[0m\u001b[0;34m.\u001b[0m\u001b[0mndim\u001b[0m \u001b[0;34m>\u001b[0m \u001b[0;36m1\u001b[0m\u001b[0;34m:\u001b[0m\u001b[0;34m\u001b[0m\u001b[0;34m\u001b[0m\u001b[0m\n\u001b[1;32m    657\u001b[0m         \u001b[0;32mif\u001b[0m \u001b[0misinstance\u001b[0m\u001b[0;34m(\u001b[0m\u001b[0mdata\u001b[0m\u001b[0;34m,\u001b[0m \u001b[0mnp\u001b[0m\u001b[0;34m.\u001b[0m\u001b[0mndarray\u001b[0m\u001b[0;34m)\u001b[0m\u001b[0;34m:\u001b[0m\u001b[0;34m\u001b[0m\u001b[0;34m\u001b[0m\u001b[0m\n\u001b[0;32m--> 658\u001b[0;31m             \u001b[0;32mraise\u001b[0m \u001b[0mException\u001b[0m\u001b[0;34m(\u001b[0m\u001b[0;34m'Data must be 1-dimensional'\u001b[0m\u001b[0;34m)\u001b[0m\u001b[0;34m\u001b[0m\u001b[0;34m\u001b[0m\u001b[0m\n\u001b[0m\u001b[1;32m    659\u001b[0m         \u001b[0;32melse\u001b[0m\u001b[0;34m:\u001b[0m\u001b[0;34m\u001b[0m\u001b[0;34m\u001b[0m\u001b[0m\n\u001b[1;32m    660\u001b[0m             \u001b[0msubarr\u001b[0m \u001b[0;34m=\u001b[0m \u001b[0mcom\u001b[0m\u001b[0;34m.\u001b[0m\u001b[0masarray_tuplesafe\u001b[0m\u001b[0;34m(\u001b[0m\u001b[0mdata\u001b[0m\u001b[0;34m,\u001b[0m \u001b[0mdtype\u001b[0m\u001b[0;34m=\u001b[0m\u001b[0mdtype\u001b[0m\u001b[0;34m)\u001b[0m\u001b[0;34m\u001b[0m\u001b[0;34m\u001b[0m\u001b[0m\n",
      "\u001b[0;31mException\u001b[0m: Data must be 1-dimensional"
     ]
    }
   ],
   "source": [
    "df = pd.DataFrame.from_items(d.items())"
   ]
  },
  {
   "cell_type": "code",
   "execution_count": null,
   "metadata": {},
   "outputs": [],
   "source": [
    "df"
   ]
  },
  {
   "cell_type": "code",
   "execution_count": 28,
   "metadata": {},
   "outputs": [],
   "source": [
    "d = {\"selectionmodel\": [{\"name\": \"SignificantSelection\"}]}"
   ]
  },
  {
   "cell_type": "code",
   "execution_count": 29,
   "metadata": {},
   "outputs": [
    {
     "data": {
      "text/plain": [
       "1"
      ]
     },
     "execution_count": 29,
     "metadata": {},
     "output_type": "execute_result"
    }
   ],
   "source": [
    "len(d['selectionmodel'])"
   ]
  },
  {
   "cell_type": "code",
   "execution_count": 62,
   "metadata": {},
   "outputs": [
    {
     "ename": "ValueError",
     "evalue": "arrays must all be same length",
     "output_type": "error",
     "traceback": [
      "\u001b[0;31m---------------------------------------------------------------------------\u001b[0m",
      "\u001b[0;31mValueError\u001b[0m                                Traceback (most recent call last)",
      "\u001b[0;32m<ipython-input-62-3005425d4328>\u001b[0m in \u001b[0;36m<module>\u001b[0;34m\u001b[0m\n\u001b[1;32m      6\u001b[0m             \u001b[0mtestalpha\u001b[0m \u001b[0;34m=\u001b[0m \u001b[0mnp\u001b[0m\u001b[0;34m.\u001b[0m\u001b[0mtile\u001b[0m\u001b[0;34m(\u001b[0m\u001b[0mtestalpha\u001b[0m\u001b[0;34m,\u001b[0m \u001b[0mn\u001b[0m \u001b[0;34m//\u001b[0m \u001b[0mlen\u001b[0m\u001b[0;34m(\u001b[0m\u001b[0mtestalpha\u001b[0m\u001b[0;34m)\u001b[0m\u001b[0;34m)\u001b[0m\u001b[0;34m,\u001b[0m\u001b[0;34m\u001b[0m\u001b[0;34m\u001b[0m\u001b[0m\n\u001b[1;32m      7\u001b[0m             \u001b[0mpubbias\u001b[0m \u001b[0;34m=\u001b[0m \u001b[0mnp\u001b[0m\u001b[0;34m.\u001b[0m\u001b[0mtile\u001b[0m\u001b[0;34m(\u001b[0m\u001b[0mpubbias\u001b[0m\u001b[0;34m,\u001b[0m \u001b[0mn\u001b[0m \u001b[0;34m//\u001b[0m \u001b[0mlen\u001b[0m\u001b[0;34m(\u001b[0m\u001b[0mpubbias\u001b[0m\u001b[0;34m)\u001b[0m\u001b[0;34m)\u001b[0m\u001b[0;34m,\u001b[0m\u001b[0;34m\u001b[0m\u001b[0;34m\u001b[0m\u001b[0m\n\u001b[0;32m----> 8\u001b[0;31m             \u001b[0mselectionmodel\u001b[0m \u001b[0;34m=\u001b[0m \u001b[0mnp\u001b[0m\u001b[0;34m.\u001b[0m\u001b[0mtile\u001b[0m\u001b[0;34m(\u001b[0m\u001b[0mselectionmodel\u001b[0m\u001b[0;34m,\u001b[0m \u001b[0mn\u001b[0m \u001b[0;34m//\u001b[0m \u001b[0mlen\u001b[0m\u001b[0;34m(\u001b[0m\u001b[0mselectionmodel\u001b[0m\u001b[0;34m)\u001b[0m\u001b[0;34m)\u001b[0m\u001b[0;34m,\u001b[0m\u001b[0;34m\u001b[0m\u001b[0;34m\u001b[0m\u001b[0m\n\u001b[0m\u001b[1;32m      9\u001b[0m             ))\n",
      "\u001b[0;32m/usr/local/lib/python3.7/site-packages/pandas/core/frame.py\u001b[0m in \u001b[0;36m__init__\u001b[0;34m(self, data, index, columns, dtype, copy)\u001b[0m\n\u001b[1;32m    390\u001b[0m                                  dtype=dtype, copy=copy)\n\u001b[1;32m    391\u001b[0m         \u001b[0;32melif\u001b[0m \u001b[0misinstance\u001b[0m\u001b[0;34m(\u001b[0m\u001b[0mdata\u001b[0m\u001b[0;34m,\u001b[0m \u001b[0mdict\u001b[0m\u001b[0;34m)\u001b[0m\u001b[0;34m:\u001b[0m\u001b[0;34m\u001b[0m\u001b[0;34m\u001b[0m\u001b[0m\n\u001b[0;32m--> 392\u001b[0;31m             \u001b[0mmgr\u001b[0m \u001b[0;34m=\u001b[0m \u001b[0minit_dict\u001b[0m\u001b[0;34m(\u001b[0m\u001b[0mdata\u001b[0m\u001b[0;34m,\u001b[0m \u001b[0mindex\u001b[0m\u001b[0;34m,\u001b[0m \u001b[0mcolumns\u001b[0m\u001b[0;34m,\u001b[0m \u001b[0mdtype\u001b[0m\u001b[0;34m=\u001b[0m\u001b[0mdtype\u001b[0m\u001b[0;34m)\u001b[0m\u001b[0;34m\u001b[0m\u001b[0;34m\u001b[0m\u001b[0m\n\u001b[0m\u001b[1;32m    393\u001b[0m         \u001b[0;32melif\u001b[0m \u001b[0misinstance\u001b[0m\u001b[0;34m(\u001b[0m\u001b[0mdata\u001b[0m\u001b[0;34m,\u001b[0m \u001b[0mma\u001b[0m\u001b[0;34m.\u001b[0m\u001b[0mMaskedArray\u001b[0m\u001b[0;34m)\u001b[0m\u001b[0;34m:\u001b[0m\u001b[0;34m\u001b[0m\u001b[0;34m\u001b[0m\u001b[0m\n\u001b[1;32m    394\u001b[0m             \u001b[0;32mimport\u001b[0m \u001b[0mnumpy\u001b[0m\u001b[0;34m.\u001b[0m\u001b[0mma\u001b[0m\u001b[0;34m.\u001b[0m\u001b[0mmrecords\u001b[0m \u001b[0;32mas\u001b[0m \u001b[0mmrecords\u001b[0m\u001b[0;34m\u001b[0m\u001b[0;34m\u001b[0m\u001b[0m\n",
      "\u001b[0;32m/usr/local/lib/python3.7/site-packages/pandas/core/internals/construction.py\u001b[0m in \u001b[0;36minit_dict\u001b[0;34m(data, index, columns, dtype)\u001b[0m\n\u001b[1;32m    210\u001b[0m         \u001b[0marrays\u001b[0m \u001b[0;34m=\u001b[0m \u001b[0;34m[\u001b[0m\u001b[0mdata\u001b[0m\u001b[0;34m[\u001b[0m\u001b[0mk\u001b[0m\u001b[0;34m]\u001b[0m \u001b[0;32mfor\u001b[0m \u001b[0mk\u001b[0m \u001b[0;32min\u001b[0m \u001b[0mkeys\u001b[0m\u001b[0;34m]\u001b[0m\u001b[0;34m\u001b[0m\u001b[0;34m\u001b[0m\u001b[0m\n\u001b[1;32m    211\u001b[0m \u001b[0;34m\u001b[0m\u001b[0m\n\u001b[0;32m--> 212\u001b[0;31m     \u001b[0;32mreturn\u001b[0m \u001b[0marrays_to_mgr\u001b[0m\u001b[0;34m(\u001b[0m\u001b[0marrays\u001b[0m\u001b[0;34m,\u001b[0m \u001b[0mdata_names\u001b[0m\u001b[0;34m,\u001b[0m \u001b[0mindex\u001b[0m\u001b[0;34m,\u001b[0m \u001b[0mcolumns\u001b[0m\u001b[0;34m,\u001b[0m \u001b[0mdtype\u001b[0m\u001b[0;34m=\u001b[0m\u001b[0mdtype\u001b[0m\u001b[0;34m)\u001b[0m\u001b[0;34m\u001b[0m\u001b[0;34m\u001b[0m\u001b[0m\n\u001b[0m\u001b[1;32m    213\u001b[0m \u001b[0;34m\u001b[0m\u001b[0m\n\u001b[1;32m    214\u001b[0m \u001b[0;34m\u001b[0m\u001b[0m\n",
      "\u001b[0;32m/usr/local/lib/python3.7/site-packages/pandas/core/internals/construction.py\u001b[0m in \u001b[0;36marrays_to_mgr\u001b[0;34m(arrays, arr_names, index, columns, dtype)\u001b[0m\n\u001b[1;32m     49\u001b[0m     \u001b[0;31m# figure out the index, if necessary\u001b[0m\u001b[0;34m\u001b[0m\u001b[0;34m\u001b[0m\u001b[0;34m\u001b[0m\u001b[0m\n\u001b[1;32m     50\u001b[0m     \u001b[0;32mif\u001b[0m \u001b[0mindex\u001b[0m \u001b[0;32mis\u001b[0m \u001b[0;32mNone\u001b[0m\u001b[0;34m:\u001b[0m\u001b[0;34m\u001b[0m\u001b[0;34m\u001b[0m\u001b[0m\n\u001b[0;32m---> 51\u001b[0;31m         \u001b[0mindex\u001b[0m \u001b[0;34m=\u001b[0m \u001b[0mextract_index\u001b[0m\u001b[0;34m(\u001b[0m\u001b[0marrays\u001b[0m\u001b[0;34m)\u001b[0m\u001b[0;34m\u001b[0m\u001b[0;34m\u001b[0m\u001b[0m\n\u001b[0m\u001b[1;32m     52\u001b[0m     \u001b[0;32melse\u001b[0m\u001b[0;34m:\u001b[0m\u001b[0;34m\u001b[0m\u001b[0;34m\u001b[0m\u001b[0m\n\u001b[1;32m     53\u001b[0m         \u001b[0mindex\u001b[0m \u001b[0;34m=\u001b[0m \u001b[0mensure_index\u001b[0m\u001b[0;34m(\u001b[0m\u001b[0mindex\u001b[0m\u001b[0;34m)\u001b[0m\u001b[0;34m\u001b[0m\u001b[0;34m\u001b[0m\u001b[0m\n",
      "\u001b[0;32m/usr/local/lib/python3.7/site-packages/pandas/core/internals/construction.py\u001b[0m in \u001b[0;36mextract_index\u001b[0;34m(data)\u001b[0m\n\u001b[1;32m    315\u001b[0m             \u001b[0mlengths\u001b[0m \u001b[0;34m=\u001b[0m \u001b[0mlist\u001b[0m\u001b[0;34m(\u001b[0m\u001b[0mset\u001b[0m\u001b[0;34m(\u001b[0m\u001b[0mraw_lengths\u001b[0m\u001b[0;34m)\u001b[0m\u001b[0;34m)\u001b[0m\u001b[0;34m\u001b[0m\u001b[0;34m\u001b[0m\u001b[0m\n\u001b[1;32m    316\u001b[0m             \u001b[0;32mif\u001b[0m \u001b[0mlen\u001b[0m\u001b[0;34m(\u001b[0m\u001b[0mlengths\u001b[0m\u001b[0;34m)\u001b[0m \u001b[0;34m>\u001b[0m \u001b[0;36m1\u001b[0m\u001b[0;34m:\u001b[0m\u001b[0;34m\u001b[0m\u001b[0;34m\u001b[0m\u001b[0m\n\u001b[0;32m--> 317\u001b[0;31m                 \u001b[0;32mraise\u001b[0m \u001b[0mValueError\u001b[0m\u001b[0;34m(\u001b[0m\u001b[0;34m'arrays must all be same length'\u001b[0m\u001b[0;34m)\u001b[0m\u001b[0;34m\u001b[0m\u001b[0;34m\u001b[0m\u001b[0m\n\u001b[0m\u001b[1;32m    318\u001b[0m \u001b[0;34m\u001b[0m\u001b[0m\n\u001b[1;32m    319\u001b[0m             \u001b[0;32mif\u001b[0m \u001b[0mhave_dicts\u001b[0m\u001b[0;34m:\u001b[0m\u001b[0;34m\u001b[0m\u001b[0;34m\u001b[0m\u001b[0m\n",
      "\u001b[0;31mValueError\u001b[0m: arrays must all be same length"
     ]
    }
   ],
   "source": [
    "df = pd.DataFrame(dict(\n",
    "            debug = np.tile(debug, n // len(debug)),\n",
    "            verbose = np.tile(verbose, n // len(verbose)),\n",
    "            progress = np.tile(progress, n // len(progress)),\n",
    "            nsims = np.tile(nsims, n // len(nsims)),\n",
    "            testalpha = np.tile(testalpha, n // len(testalpha)),\n",
    "            pubbias = np.tile(pubbias, n // len(pubbias)),\n",
    "            selectionmodel = np.tile(selectionmodel, n // len(selectionmodel)),\n",
    "            ))"
   ]
  },
  {
   "cell_type": "code",
   "execution_count": 17,
   "metadata": {},
   "outputs": [
    {
     "data": {
      "text/html": [
       "<div>\n",
       "<style scoped>\n",
       "    .dataframe tbody tr th:only-of-type {\n",
       "        vertical-align: middle;\n",
       "    }\n",
       "\n",
       "    .dataframe tbody tr th {\n",
       "        vertical-align: top;\n",
       "    }\n",
       "\n",
       "    .dataframe thead th {\n",
       "        text-align: right;\n",
       "    }\n",
       "</style>\n",
       "<table border=\"1\" class=\"dataframe\">\n",
       "  <thead>\n",
       "    <tr style=\"text-align: right;\">\n",
       "      <th></th>\n",
       "      <th>debug</th>\n",
       "      <th>verbose</th>\n",
       "      <th>progress</th>\n",
       "      <th>nsims</th>\n",
       "      <th>testalpha</th>\n",
       "      <th>pubbias</th>\n",
       "      <th>selectionmodel</th>\n",
       "    </tr>\n",
       "  </thead>\n",
       "  <tbody>\n",
       "    <tr>\n",
       "      <th>0</th>\n",
       "      <td>False</td>\n",
       "      <td>False</td>\n",
       "      <td>False</td>\n",
       "      <td>1</td>\n",
       "      <td>0.0500</td>\n",
       "      <td>0.95</td>\n",
       "      <td>{'name': 'SignificantSelection'}</td>\n",
       "    </tr>\n",
       "    <tr>\n",
       "      <th>1</th>\n",
       "      <td>False</td>\n",
       "      <td>False</td>\n",
       "      <td>False</td>\n",
       "      <td>2</td>\n",
       "      <td>0.0050</td>\n",
       "      <td>0.95</td>\n",
       "      <td>{'name': 'SignificantSelection'}</td>\n",
       "    </tr>\n",
       "    <tr>\n",
       "      <th>2</th>\n",
       "      <td>False</td>\n",
       "      <td>False</td>\n",
       "      <td>False</td>\n",
       "      <td>3</td>\n",
       "      <td>0.0005</td>\n",
       "      <td>0.95</td>\n",
       "      <td>{'name': 'SignificantSelection'}</td>\n",
       "    </tr>\n",
       "    <tr>\n",
       "      <th>3</th>\n",
       "      <td>False</td>\n",
       "      <td>False</td>\n",
       "      <td>False</td>\n",
       "      <td>1</td>\n",
       "      <td>0.0500</td>\n",
       "      <td>0.95</td>\n",
       "      <td>{'name': 'SignificantSelection'}</td>\n",
       "    </tr>\n",
       "    <tr>\n",
       "      <th>4</th>\n",
       "      <td>False</td>\n",
       "      <td>False</td>\n",
       "      <td>False</td>\n",
       "      <td>2</td>\n",
       "      <td>0.0050</td>\n",
       "      <td>0.95</td>\n",
       "      <td>{'name': 'SignificantSelection'}</td>\n",
       "    </tr>\n",
       "    <tr>\n",
       "      <th>5</th>\n",
       "      <td>False</td>\n",
       "      <td>False</td>\n",
       "      <td>False</td>\n",
       "      <td>3</td>\n",
       "      <td>0.0005</td>\n",
       "      <td>0.95</td>\n",
       "      <td>{'name': 'SignificantSelection'}</td>\n",
       "    </tr>\n",
       "    <tr>\n",
       "      <th>6</th>\n",
       "      <td>False</td>\n",
       "      <td>False</td>\n",
       "      <td>False</td>\n",
       "      <td>1</td>\n",
       "      <td>0.0500</td>\n",
       "      <td>0.95</td>\n",
       "      <td>{'name': 'SignificantSelection'}</td>\n",
       "    </tr>\n",
       "    <tr>\n",
       "      <th>7</th>\n",
       "      <td>False</td>\n",
       "      <td>False</td>\n",
       "      <td>False</td>\n",
       "      <td>2</td>\n",
       "      <td>0.0050</td>\n",
       "      <td>0.95</td>\n",
       "      <td>{'name': 'SignificantSelection'}</td>\n",
       "    </tr>\n",
       "    <tr>\n",
       "      <th>8</th>\n",
       "      <td>False</td>\n",
       "      <td>False</td>\n",
       "      <td>False</td>\n",
       "      <td>3</td>\n",
       "      <td>0.0005</td>\n",
       "      <td>0.95</td>\n",
       "      <td>{'name': 'SignificantSelection'}</td>\n",
       "    </tr>\n",
       "  </tbody>\n",
       "</table>\n",
       "</div>"
      ],
      "text/plain": [
       "   debug  verbose  progress  nsims  testalpha  pubbias  \\\n",
       "0  False    False     False      1     0.0500     0.95   \n",
       "1  False    False     False      2     0.0050     0.95   \n",
       "2  False    False     False      3     0.0005     0.95   \n",
       "3  False    False     False      1     0.0500     0.95   \n",
       "4  False    False     False      2     0.0050     0.95   \n",
       "5  False    False     False      3     0.0005     0.95   \n",
       "6  False    False     False      1     0.0500     0.95   \n",
       "7  False    False     False      2     0.0050     0.95   \n",
       "8  False    False     False      3     0.0005     0.95   \n",
       "\n",
       "                     selectionmodel  \n",
       "0  {'name': 'SignificantSelection'}  \n",
       "1  {'name': 'SignificantSelection'}  \n",
       "2  {'name': 'SignificantSelection'}  \n",
       "3  {'name': 'SignificantSelection'}  \n",
       "4  {'name': 'SignificantSelection'}  \n",
       "5  {'name': 'SignificantSelection'}  \n",
       "6  {'name': 'SignificantSelection'}  \n",
       "7  {'name': 'SignificantSelection'}  \n",
       "8  {'name': 'SignificantSelection'}  "
      ]
     },
     "execution_count": 17,
     "metadata": {},
     "output_type": "execute_result"
    }
   ],
   "source": [
    "df"
   ]
  },
  {
   "cell_type": "code",
   "execution_count": 22,
   "metadata": {},
   "outputs": [],
   "source": [
    "j = df.loc[0].to_json(\"row{}.json\".format(df.loc[0][\"nsims\"]))"
   ]
  },
  {
   "cell_type": "code",
   "execution_count": 21,
   "metadata": {},
   "outputs": [],
   "source": [
    "j"
   ]
  },
  {
   "cell_type": "code",
   "execution_count": null,
   "metadata": {},
   "outputs": [],
   "source": []
  }
 ],
 "metadata": {
  "kernelspec": {
   "display_name": "Python 3",
   "language": "python",
   "name": "python3"
  },
  "language_info": {
   "codemirror_mode": {
    "name": "ipython",
    "version": 3
   },
   "file_extension": ".py",
   "mimetype": "text/x-python",
   "name": "python",
   "nbconvert_exporter": "python",
   "pygments_lexer": "ipython3",
   "version": "3.7.3"
  }
 },
 "nbformat": 4,
 "nbformat_minor": 2
}
